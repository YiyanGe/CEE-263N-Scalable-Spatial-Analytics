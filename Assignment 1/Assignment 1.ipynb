{
 "cells": [
  {
   "cell_type": "code",
   "execution_count": 1,
   "metadata": {
    "collapsed": true
   },
   "outputs": [],
   "source": [
    "import time\n",
    "from sklearn.datasets import load_iris\n",
    "from sklearn.cluster import KMeans, DBSCAN\n",
    "from sklearn.cluster import MiniBatchKMeans\n",
    "import numpy as np\n",
    "import matplotlib.pyplot as plt\n",
    "import scipy\n",
    "import scipy.io\n",
    "import math\n",
    "import json\n",
    "from mpl_toolkits.mplot3d import Axes3D\n",
    "%matplotlib inline  \n",
    "\n",
    "import pandas as pd"
   ]
  },
  {
   "cell_type": "code",
   "execution_count": 2,
   "metadata": {
    "collapsed": true
   },
   "outputs": [],
   "source": [
    "def frange(start, stop, step):\n",
    "    i = start\n",
    "    while i < stop:\n",
    "        yield i\n",
    "        i += step"
   ]
  },
  {
   "cell_type": "code",
   "execution_count": 3,
   "metadata": {
    "collapsed": false
   },
   "outputs": [],
   "source": [
    "with open('../../data/tweets_1M.json','r') as f:\n",
    "    tweets = json.load(f)"
   ]
  },
  {
   "cell_type": "code",
   "execution_count": 4,
   "metadata": {
    "collapsed": false
   },
   "outputs": [],
   "source": [
    "X = np.array([[tweets[x]['lat'],tweets[x]['lng']] for x in range(0, len(tweets))])\n",
    "#100K subset\n",
    "sample = 100000\n",
    "total = len(X)\n",
    "subset = X[0::int(total/sample)]"
   ]
  },
  {
   "cell_type": "markdown",
   "metadata": {},
   "source": [
    "Part 1.1 K-means"
   ]
  },
  {
   "cell_type": "code",
   "execution_count": null,
   "metadata": {
    "collapsed": false
   },
   "outputs": [],
   "source": [
    "# use this to get a n (that is close to 60 secs)\n",
    "n = 370\n",
    "## initialize with K-means++, a good way of speeding up convergence\n",
    "k_means = KMeans(init='k-means++', n_clusters=n, n_init=10)\n",
    "## record the current time\n",
    "t_km = time.time()\n",
    "# start clustering!\n",
    "k_means.fit(X)\n",
    "## get the time to finish clustering\n",
    "t_fin_km = time.time() - t_km"
   ]
  },
  {
   "cell_type": "code",
   "execution_count": null,
   "metadata": {
    "collapsed": false
   },
   "outputs": [],
   "source": [
    "t_fin_km"
   ]
  },
  {
   "cell_type": "code",
   "execution_count": null,
   "metadata": {
    "collapsed": false
   },
   "outputs": [],
   "source": [
    "#detect maximum k\n",
    "# start with relatively reasonable n \n",
    "n = 35\n",
    "t_fin_km = 0\n",
    "while t_fin_km <= 60:\n",
    "    print ('testing n equal to ' + str(n))\n",
    "    ## initialize with K-means++, a good way of speeding up convergence\n",
    "    k_means = KMeans(init='k-means++', n_clusters=n, n_init=10)\n",
    "    ## record the current time\n",
    "    t_km = time.time()\n",
    "    # start clustering!\n",
    "    k_means.fit(X)\n",
    "    ## get the time to finish clustering\n",
    "    t_fin_km = time.time() - t_km\n",
    "    #\n",
    "    print (t_fin_km)\n",
    "    n += 1\n",
    "\n",
    "#print (t_fin_km)\n",
    "# max k = 380    "
   ]
  },
  {
   "cell_type": "code",
   "execution_count": null,
   "metadata": {
    "collapsed": true
   },
   "outputs": [],
   "source": [
    "k_means_labels = k_means.labels_\n",
    "k_means_cluster_centers = k_means.cluster_centers_\n",
    "k_means_labels_unique = np.unique(k_means_labels)\n",
    "ft = (k_means_labels, k_means_cluster_centers, k_means_labels_unique)"
   ]
  },
  {
   "cell_type": "markdown",
   "metadata": {},
   "source": [
    "Part 1.2 MiniBatch k-means"
   ]
  },
  {
   "cell_type": "code",
   "execution_count": null,
   "metadata": {
    "collapsed": false
   },
   "outputs": [],
   "source": [
    "n = 850\n",
    "perc = 0.01\n",
    "t_mini_batch = 0\n",
    "batch_size=int(len(X)*perc)\n",
    "while t_mini_batch <= 60:\n",
    "    mbk = MiniBatchKMeans(init='k-means++', n_clusters=n, batch_size=batch_size,\n",
    "                          n_init=10, max_no_improvement=10, verbose=0)\n",
    "    t0 = time.time()\n",
    "    mbk.fit(X)\n",
    "    t_mini_batch = time.time() - t0\n",
    "    n += 100\n",
    "    print (n, t_mini_batch)"
   ]
  },
  {
   "cell_type": "code",
   "execution_count": null,
   "metadata": {
    "collapsed": false
   },
   "outputs": [],
   "source": [
    "# picked a relatively ideal perc based on previous calculation; not entirely sure why...\n",
    "for perc in [0.1]:\n",
    "    print ('perc is '+ str(perc))\n",
    "    batch_size=int(len(X)*perc)\n",
    "    n = 100\n",
    "    t_mini_batch = 0\n",
    "    while t_mini_batch <= 60:\n",
    "        print ('testing n equal to ' + str(n))\n",
    "        mbk = MiniBatchKMeans(init='k-means++', n_clusters=n, batch_size=batch_size,\n",
    "                            n_init=10, max_no_improvement=10, verbose=0)\n",
    "        t0 = time.time()\n",
    "        mbk.fit(X)\n",
    "        t_mini_batch = time.time() - t0\n",
    "        n += 10\n",
    "        print (t_mini_batch)\n",
    "# max n = 1490"
   ]
  },
  {
   "cell_type": "code",
   "execution_count": null,
   "metadata": {
    "collapsed": true
   },
   "outputs": [],
   "source": [
    "mbk_means_labels = mbk.labels_\n",
    "mbk_means_cluster_centers = mbk.cluster_centers_\n",
    "mbk_means_labels_unique = np.unique(mbk_means_labels)"
   ]
  },
  {
   "cell_type": "markdown",
   "metadata": {},
   "source": [
    "part 1.3 DBSCAN"
   ]
  },
  {
   "cell_type": "code",
   "execution_count": 5,
   "metadata": {
    "collapsed": false
   },
   "outputs": [],
   "source": [
    "import utm"
   ]
  },
  {
   "cell_type": "code",
   "execution_count": 6,
   "metadata": {
    "collapsed": false
   },
   "outputs": [],
   "source": [
    "for n in range(0, len(X)):\n",
    "    meters = utm.from_latlon(X[n][0],X[n][1])\n",
    "    X[n][0] = meters[0]\n",
    "    X[n][1] = meters[1]"
   ]
  },
  {
   "cell_type": "code",
   "execution_count": 7,
   "metadata": {
    "collapsed": false
   },
   "outputs": [],
   "source": [
    "eps = 100\n",
    "    \n",
    "t_db = time.time()\n",
    "db = DBSCAN(eps=eps, min_samples=100).fit(X)\n",
    "t_fin_db = time.time() - t_db\n",
    "\n",
    "db_labels = db.labels_\n",
    "n_clusters_ = len(set(db_labels)) - (1 if -1 in db_labels else 0)\n",
    "db_labels_unique = np.unique(db_labels)"
   ]
  },
  {
   "cell_type": "code",
   "execution_count": 8,
   "metadata": {
    "collapsed": false
   },
   "outputs": [
    {
     "data": {
      "text/plain": [
       "array([  -1,    0,    1, ..., 1602, 1603, 1604])"
      ]
     },
     "execution_count": 8,
     "metadata": {},
     "output_type": "execute_result"
    }
   ],
   "source": [
    "db_labels_unique"
   ]
  },
  {
   "cell_type": "code",
   "execution_count": 8,
   "metadata": {
    "collapsed": false
   },
   "outputs": [],
   "source": [
    "X = np.array([[tweets[x]['lat'],tweets[x]['lng']] for x in range(0, len(tweets))])"
   ]
  },
  {
   "cell_type": "code",
   "execution_count": 9,
   "metadata": {
    "collapsed": true
   },
   "outputs": [],
   "source": [
    "db_label = 30\n",
    "x_coords = X[db_labels==db_label][:,1]\n",
    "y_coords = X[db_labels==db_label][:,0]"
   ]
  },
  {
   "cell_type": "code",
   "execution_count": 14,
   "metadata": {
    "collapsed": false
   },
   "outputs": [],
   "source": [
    "df=pd.DataFrame(data={'lat': y_coords, 'lng': x_coords})\n",
    "df.to_csv('../../data/clusteroutput.csv')"
   ]
  },
  {
   "cell_type": "code",
   "execution_count": null,
   "metadata": {
    "collapsed": true
   },
   "outputs": [],
   "source": []
  },
  {
   "cell_type": "code",
   "execution_count": null,
   "metadata": {
    "collapsed": true
   },
   "outputs": [],
   "source": []
  },
  {
   "cell_type": "code",
   "execution_count": 28,
   "metadata": {
    "collapsed": false
   },
   "outputs": [
    {
     "data": {
      "image/png": "[encoded data removed]",
      "text/plain": [
       "<matplotlib.figure.Figure at 0x10cd7a780>"
      ]
     },
     "metadata": {},
     "output_type": "display_data"
    }
   ],
   "source": [
    "# get colors and plot all the points, color-coded by cluster (or gray if not in any cluster, aka noise)\n",
    "fig, ax = plt.subplots(figsize=[12,8])\n",
    "ax.set_xlim([-122.1057, -122.1045])\n",
    "ax.set_ylim([37.6924,37.694])\n",
    "#colors = plt.cm.rainbow(np.linspace(0, 1, len(db_labels_unique)))\n",
    "\n",
    "color = 'steelblue'\n",
    "db_label = 1600\n",
    "\n",
    "# for each cluster label and color, plot the cluster's points\n",
    "#for db_label, color in zip(db_labels_unique, colors):\n",
    "    \n",
    "size = 30\n",
    "#if db_label == -1: #make the noise (which is labeled -1) appear as smaller gray points\n",
    "#    color = 'gray'\n",
    "#    size = 3\n",
    "#    alpha=0.01\n",
    "\n",
    "# plot the points that match the current cluster label\n",
    "x_coords = X[db_labels==db_label][:,1]\n",
    "y_coords = X[db_labels==db_label][:,0]\n",
    "ax.scatter(x=x_coords, y=y_coords, c=color, edgecolor='', s=size, alpha=0.5)\n",
    "\n",
    "#ax.set_title('Number of clusters: {}'.format(n_clusters_)) #string concatenation\n",
    "plt.show()"
   ]
  },
  {
   "cell_type": "code",
   "execution_count": 43,
   "metadata": {
    "collapsed": false
   },
   "outputs": [
    {
     "name": "stdout",
     "output_type": "stream",
     "text": [
      "warning: width and height keywords ignored for Mercator projection"
     ]
    },
    {
     "data": {
      "text/plain": [
       "<matplotlib.collections.PathCollection at 0x125acf438>"
      ]
     },
     "execution_count": 43,
     "metadata": {},
     "output_type": "execute_result"
    },
    {
     "data": {
      "image/png": "[encoded data removed]",
      "text/plain": [
       "<matplotlib.figure.Figure at 0x125ae3a90>"
      ]
     },
     "metadata": {},
     "output_type": "display_data"
    }
   ],
   "source": [
    "from mpl_toolkits.basemap import Basemap\n",
    "# define basemap colors\n",
    "land_color = '#F6F6F6'\n",
    "water_color = '#D2F5FF'\n",
    "coastline_color = '#333333'\n",
    "border_color = '#999999'\n",
    "\n",
    "plt.figure(figsize=[12, 8]) #make plot the same height:width ratio\n",
    "\n",
    "m = Basemap(ellps='WGS84', projection='merc', \n",
    "            lat_1=37.692, lat_2=37.694, lon_0=-122.1051, lat_0=37.693, \n",
    "            width=400, height=200,\n",
    "            resolution='l', area_thresh=10000)\n",
    "m.drawcoastlines(color=coastline_color)\n",
    "m.drawcountries(color=border_color)\n",
    "m.fillcontinents(color=land_color, lake_color=water_color)\n",
    "m.drawmapboundary(fill_color=water_color)\n",
    "\n",
    "# project and plot our lat-long data\n",
    "x_coords = X[db_labels==db_label][:,1]\n",
    "y_coords = X[db_labels==db_label][:,0]\n",
    "m.scatter(x=x_coords, y=y_coords, s=100, color='r', edgecolor='#333333', alpha=0.4, zorder=10)"
   ]
  },
  {
   "cell_type": "markdown",
   "metadata": {},
   "source": [
    "Part 2. Clustering: Scalability "
   ]
  },
  {
   "cell_type": "code",
   "execution_count": null,
   "metadata": {
    "collapsed": false
   },
   "outputs": [],
   "source": [
    "records = {}\n",
    "for n in range(100, 100100, 100):\n",
    "    \n",
    "    sample = n\n",
    "    total = len(X)\n",
    "    subset = X[0::int(total/sample)]\n",
    "    \n",
    "    ## initialize with K-means++, a good way of speeding up convergence\n",
    "    k_means = KMeans(init='k-means++', n_clusters=100, n_init=10)\n",
    "    ## record the current time\n",
    "    t_km = time.time()\n",
    "    # start clustering!\n",
    "    k_means.fit(subset)\n",
    "    ## get the time to finish clustering\n",
    "    t_fin_km = time.time() - t_km\n",
    "    \n",
    "    records[sample] = t_fin_km"
   ]
  },
  {
   "cell_type": "code",
   "execution_count": null,
   "metadata": {
    "collapsed": false
   },
   "outputs": [],
   "source": [
    "records_df = pd.DataFrame.from_dict(records, orient = 'index')\n",
    "records_df.to_csv('data/part2_1.csv')"
   ]
  },
  {
   "cell_type": "code",
   "execution_count": null,
   "metadata": {
    "collapsed": false
   },
   "outputs": [],
   "source": [
    "fig, ax = plt.subplots(figsize=[8,10])\n",
    "ax.scatter(x=list(records.keys()), y=list(records.values()))\n",
    "#plt.savefig('part2.pdf')"
   ]
  },
  {
   "cell_type": "code",
   "execution_count": null,
   "metadata": {
    "collapsed": false
   },
   "outputs": [],
   "source": [
    "#K-means....need to rerun\n",
    "#Number of requested clusters k (consider the range of 2 to the k_max)\n",
    "k_max = 380\n",
    "records = {}\n",
    "for n in range(2, k_max+1):\n",
    "\n",
    "    ## initialize with K-means++, a good way of speeding up convergence\n",
    "    k_means = KMeans(init='k-means++', n_clusters=n, n_init=10)\n",
    "    ## record the current time\n",
    "    t_km = time.time()\n",
    "    # start clustering!\n",
    "    k_means.fit(X)\n",
    "    ## get the time to finish clustering\n",
    "    t_fin_km = time.time() - t_km\n",
    "    \n",
    "    records[n] = t_fin_km"
   ]
  },
  {
   "cell_type": "code",
   "execution_count": null,
   "metadata": {
    "collapsed": false
   },
   "outputs": [],
   "source": [
    "records_df = pd.DataFrame.from_dict(records, orient = 'index')\n",
    "records_df.to_csv('data/part2_1_b_Kmeans.csv')"
   ]
  },
  {
   "cell_type": "code",
   "execution_count": null,
   "metadata": {
    "collapsed": true
   },
   "outputs": [],
   "source": [
    "fig, ax = plt.subplots(figsize=[8,10])\n",
    "ax.scatter(x=list(records.keys()), y=list(records.values()))\n",
    "#plt.savefig('part2_.pdf')"
   ]
  },
  {
   "cell_type": "code",
   "execution_count": null,
   "metadata": {
    "collapsed": true
   },
   "outputs": [],
   "source": [
    "#mini batch k_means"
   ]
  },
  {
   "cell_type": "code",
   "execution_count": null,
   "metadata": {
    "collapsed": false
   },
   "outputs": [],
   "source": [
    "records = {}\n",
    "for n in range(2000, 101000, 1000):\n",
    "    \n",
    "    print ('begin ' + str(n))\n",
    "    sample = n\n",
    "    total = len(X)\n",
    "    subset = X[0::int(total/sample)]\n",
    "\n",
    "    perc=0.0005\n",
    "    batch_size=int(len(subset)*perc)\n",
    "\n",
    "    mbk = MiniBatchKMeans(init='k-means++', n_clusters=100, batch_size=batch_size,\n",
    "                          n_init=10, max_no_improvement=10, verbose=0)\n",
    "    t0 = time.time()\n",
    "    mbk.fit(subset)\n",
    "    t_mini_batch = time.time() - t0\n",
    "    \n",
    "    records[n] = t_mini_batch"
   ]
  },
  {
   "cell_type": "code",
   "execution_count": null,
   "metadata": {
    "collapsed": true
   },
   "outputs": [],
   "source": [
    "records_df = pd.DataFrame.from_dict(records, orient = 'index')\n",
    "records_df.to_csv('data/part2_1_a_MiniBatchK_0.0005.csv')"
   ]
  },
  {
   "cell_type": "code",
   "execution_count": null,
   "metadata": {
    "collapsed": false
   },
   "outputs": [],
   "source": [
    "fig, ax = plt.subplots(figsize=[8,10])\n",
    "ax.scatter(x=list(records.keys()), y=list(records.values()))\n",
    "plt.savefig('part2_1_a_minibatch.pdf')"
   ]
  },
  {
   "cell_type": "code",
   "execution_count": null,
   "metadata": {
    "collapsed": true
   },
   "outputs": [],
   "source": [
    "# minibatch kmeans\n",
    "#Number of requested clusters k (consider the range of 2 to the k_max)\n",
    "k_max = 1350\n",
    "records = {}\n",
    "for n in range(2, k_max+1, 100):\n",
    "\n",
    "    perc=0.01\n",
    "    batch_size=int(len(X)*perc)\n",
    "    \n",
    "    mbk = MiniBatchKMeans(init='k-means++', n_clusters=n, batch_size=batch_size,\n",
    "                          n_init=10, max_no_improvement=10, verbose=0)\n",
    "    t0 = time.time()\n",
    "    mbk.fit(X)\n",
    "    t_mini_batch = time.time() - t0\n",
    "    \n",
    "    records[n] = t_mini_batch"
   ]
  },
  {
   "cell_type": "code",
   "execution_count": null,
   "metadata": {
    "collapsed": true
   },
   "outputs": [],
   "source": [
    "records_df = pd.DataFrame.from_dict(records, orient = 'index')\n",
    "records_df.to_csv('data/part21MiniBatchKCluster_0.01.csv')"
   ]
  },
  {
   "cell_type": "code",
   "execution_count": null,
   "metadata": {
    "collapsed": false
   },
   "outputs": [],
   "source": [
    "fig, ax = plt.subplots(figsize=[8,10])\n",
    "ax.scatter(x=list(records.keys()), y=list(records.values()))\n",
    "plt.savefig('part2_1_b_minibatch.pdf')"
   ]
  },
  {
   "cell_type": "code",
   "execution_count": null,
   "metadata": {
    "collapsed": false
   },
   "outputs": [],
   "source": [
    "list(y)"
   ]
  },
  {
   "cell_type": "code",
   "execution_count": null,
   "metadata": {
    "collapsed": true
   },
   "outputs": [],
   "source": [
    "recordedtime = {}\n",
    "#ncluster = {}\n",
    "for n in range(100, 100100, 100):\n",
    "    eps=0.001\n",
    "    \n",
    "    sample = n\n",
    "    total = len(X)\n",
    "    subset = X[0::int(total/sample)]\n",
    "    \n",
    "    t_db = time.time()\n",
    "    db = DBSCAN(eps=eps, min_samples=100).fit(subset)\n",
    "    t_fin_db = time.time() - t_db\n",
    "    \n",
    "    recordedtime[n] = t_fin_db"
   ]
  },
  {
   "cell_type": "code",
   "execution_count": null,
   "metadata": {
    "collapsed": true
   },
   "outputs": [],
   "source": [
    "recordedtime_df = pd.DataFrame.from_dict(recordedtime, orient = 'index')\n",
    "recordedtime_df.to_csv('data/part2_2.csv')"
   ]
  },
  {
   "cell_type": "code",
   "execution_count": null,
   "metadata": {
    "collapsed": false
   },
   "outputs": [],
   "source": [
    "fig, ax = plt.subplots(figsize=[8,10])\n",
    "ax.scatter(x=list(recordedtime.keys()), y=list(recordedtime.values()))\n",
    "plt.savefig('part2_2.pdf')"
   ]
  }
 ],
 "metadata": {
  "kernelspec": {
   "display_name": "Python 3",
   "language": "python",
   "name": "python3"
  },
  "language_info": {
   "codemirror_mode": {
    "name": "ipython",
    "version": 3
   },
   "file_extension": ".py",
   "mimetype": "text/x-python",
   "name": "python",
   "nbconvert_exporter": "python",
   "pygments_lexer": "ipython3",
   "version": "3.5.2"
  }
 },
 "nbformat": 4,
 "nbformat_minor": 0
}
