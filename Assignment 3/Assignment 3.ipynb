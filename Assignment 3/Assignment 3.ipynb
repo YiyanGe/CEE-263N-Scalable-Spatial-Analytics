{
 "cells": [
  {
   "cell_type": "code",
   "execution_count": 275,
   "metadata": {
    "collapsed": false
   },
   "outputs": [],
   "source": [
    "%matplotlib inline\n",
    "import numpy as np\n",
    "import pandas as pd\n",
    "from scipy import spatial\n",
    "from sklearn.cross_validation import cross_val_score, KFold\n",
    "from scipy.spatial.distance import pdist\n",
    "from scipy.spatial.distance import squareform \n",
    "import utm\n",
    "from numpy.linalg import inv\n",
    "from math import sqrt\n",
    "from sklearn.metrics import mean_squared_error\n",
    "import matplotlib.pyplot as plt\n",
    "import simplekml"
   ]
  },
  {
   "cell_type": "code",
   "execution_count": 116,
   "metadata": {
    "collapsed": true
   },
   "outputs": [],
   "source": [
    "def frange(start, stop, step):\n",
    "    i = start\n",
    "    while i < stop:\n",
    "        yield i\n",
    "        i += step"
   ]
  },
  {
   "cell_type": "code",
   "execution_count": 94,
   "metadata": {
    "collapsed": false
   },
   "outputs": [],
   "source": [
    "trn_data = np.genfromtxt('Data_problem3/trn_data.csv', delimiter=',', skip_header=1)\n",
    "tst_data = np.genfromtxt('Data_problem3/tst_locations.csv', delimiter=',', skip_header=1)"
   ]
  },
  {
   "cell_type": "code",
   "execution_count": 215,
   "metadata": {
    "collapsed": true
   },
   "outputs": [],
   "source": [
    "class GP_RainFall:\n",
    "\n",
    "    def __init__(self,trn_data,tst_data,h): \n",
    "        # h is distance between x and x' (bandwidth)\n",
    "        self.X_trn_raw, self.Y_trn_raw = trn_data[:,:-1], trn_data[:,-1:]\n",
    "        self.X_tst_raw = tst_data\n",
    "        self.h = h\n",
    "        self.K_tsttst = self.covariance(self.ConvertUnit(self.X_tst_raw),self.ConvertUnit(self.X_tst_raw))\n",
    "        self.K_trntst = self.covariance(self.ConvertUnit(self.X_trn_raw),self.ConvertUnit(self.X_tst_raw))\n",
    "        self.K_tsttrn = self.covariance(self.ConvertUnit(self.X_tst_raw),self.ConvertUnit(self.X_trn_raw))\n",
    "        self.K_trntrn = self.covariance(self.ConvertUnit(self.X_trn_raw),self.ConvertUnit(self.X_trn_raw))\n",
    "        self.I = np.identity(self.K_trntrn.shape[0])\n",
    "        \n",
    "\n",
    "    def ConvertUnit(self,array):\n",
    "        array_list = []\n",
    "        for n in array:\n",
    "            meters = utm.from_latlon(n[0],n[1])\n",
    "            array_list.append(np.array([meters[0], meters[1]]))\n",
    "        converted_array = np.vstack(array_list)\n",
    "        return converted_array\n",
    "        \n",
    "    #Computing Gaussian covariance:\n",
    "    def covariance(self, X, Z):\n",
    "        d = spatial.distance_matrix(X,Z) \n",
    "        K = np.exp(-(d**2) / (2*self.h*self.h)) \n",
    "        return K\n",
    "\n",
    "    # Make Predictions\n",
    "    # predicted mean: m(f)=K(xtest,x)[K+σ^2I−1]^(-1)y\n",
    "    # cov(f)=K(xtest,xtest)−K(xtest,x)[K+σ2I]^(−1)K(x,xtest)\n",
    "\n",
    "    def predict(self, sigma, X_trn_raw, X_tst_raw, Y_trn_pre):\n",
    "        X_tst = self.ConvertUnit(X_tst_raw)\n",
    "        X_trn = self.ConvertUnit(X_trn_raw)\n",
    "        \n",
    "        K_tsttrn = self.covariance(X_tst,X_trn)\n",
    "        K_trntrn = self.covariance(X_trn,X_trn)\n",
    "        \n",
    "        I = np.identity(K_trntrn.shape[0])\n",
    "        \n",
    "        mean = np.mean(Y_trn_pre)\n",
    "        Y_trn = Y_trn_pre - mean*np.ones(Y_trn_pre.shape)\n",
    "        \n",
    "        pred_mean = np.dot(np.dot(K_tsttrn,inv(K_trntrn + sigma**2*I)),Y_trn)\n",
    "        pred_Y = pred_mean + mean*np.ones(pred_mean.shape) # Re-add the mu to get the accurate value\n",
    "        \n",
    "        return pred_Y\n",
    "    \n",
    "    def predict_cv(self, k, sigma):\n",
    "        kf = KFold(len(data), n_folds = k, shuffle=True)\n",
    "        RMSE = []\n",
    "        for train_index, test_index in kf:\n",
    "            X_trn_cv, X_tst_cv = self.X_trn_raw[train_index], self.X_trn_raw[test_index]\n",
    "            Y_trn_cv, Y_tst_cv = self.Y_trn_raw[train_index], self.Y_trn_raw[test_index]\n",
    "            Y_pred = self.predict(sigma, X_trn_cv, X_tst_cv, Y_trn_cv)\n",
    "            Y_true = Y_tst_cv\n",
    "            error = sqrt(mean_squared_error(Y_pred, Y_true))\n",
    "            RMSE.append(error)\n",
    "        \n",
    "        self.RMSE = np.mean(RMSE)\n",
    "        return self.RMSE\n",
    "    \n",
    "    def simulation(self, sigma):\n",
    "        m_f = self.predict(sigma, self.X_trn_raw, self.X_tst_raw, self.Y_trn_raw) # Get m(f), K_tsttrn, K_trntrn and I\n",
    "\n",
    "        cov = self.K_tsttst - np.dot(np.dot(self.K_tsttrn,\n",
    "                            inv(self.K_trntrn + sigma**2*self.I)), self.K_trntst)\n",
    "        L = np.linalg.cholesky(cov + 0.001*np.eye(cov.shape[0])) #gamma~0.001\n",
    "        u = np.random.normal(0,1,cov.shape[0])\n",
    "        f_sim = m_f.reshape(-1,) + np.dot(L,u)\n",
    "        return f_sim, cov"
   ]
  },
  {
   "cell_type": "code",
   "execution_count": 207,
   "metadata": {
    "collapsed": true
   },
   "outputs": [],
   "source": [
    "RMSE1 = []\n",
    "RMSE2 = []\n",
    "\n",
    "bandwidth = [x*1000 for x in range(40,90,5)][1:]\n",
    "sigma = 0.45\n",
    "k = 5\n",
    "for h in bandwidth:\n",
    "    GP = GP_RainFall(trn_data, tst_data, h)\n",
    "    RMSE1.append(GP.predict_cv(5, sigma))\n",
    "\n",
    "h = 70000\n",
    "sigmas = [x for x in frange(0.05, 0.8, 0.05)][1:]\n",
    "for sigma in sigmas:\n",
    "    GP = GP_RainFall(trn_data, tst_data, h)\n",
    "    RMSE2.append(GP.predict_cv(5, sigma))"
   ]
  },
  {
   "cell_type": "code",
   "execution_count": null,
   "metadata": {
    "collapsed": false
   },
   "outputs": [],
   "source": [
    "f, (ax1, ax2) = plt.subplots(1, 2, sharey=True)\n",
    "f.set_size_inches(16, 8)\n",
    "\n",
    "ax1.plot(bandwidth, RMSE1, color='black', linewidth = 2)\n",
    "ax2.plot(sigmas, RMSE2, color='black', linewidth =2)\n",
    " \n",
    "ax1.set_xlabel('Bandwidth (km)')\n",
    "ax1.set_ylabel('RMSE')\n",
    "ax1.set_xticklabels([str(int(x/1000)) for x in bandwidth])\n",
    "ax2.set_xlabel('Sigma')\n",
    "plt.savefig('Visual.png')"
   ]
  },
  {
   "cell_type": "code",
   "execution_count": 202,
   "metadata": {
    "collapsed": false
   },
   "outputs": [],
   "source": [
    "# predict\n",
    "h = 70000\n",
    "sigma = 0.4\n",
    "df = pd.DataFrame(GP.predict(sigma, trn_data[:,:-1], tst_data, trn_data[:,-1:]), columns =['mm'])\n",
    "df['id'] = pd.Series([x for x in range(1, 414)])\n",
    "df = df[['id','mm']]\n",
    "df.to_csv('predictions_YG.csv', index=False)"
   ]
  },
  {
   "cell_type": "code",
   "execution_count": 285,
   "metadata": {
    "collapsed": false
   },
   "outputs": [],
   "source": [
    "# simulation\n",
    "tst_data = np.genfromtxt('Data_problem3/grid.csv', delimiter=',', skip_header=0)\n",
    "h = 70000\n",
    "sigma = 0.4\n",
    "GP = GP_RainFall(trn_data, tst_data, h)\n",
    "Y_sim = GP.simulation(sigma)\n",
    "\n",
    "### Save the simulation result for visualization\n",
    "output=pd.DataFrame(tst_data,columns=[['lng','lat']])\n",
    "output['pred'] = pd.Series(Y_sim[0])\n",
    "\n",
    "#output.to_csv('simulation.csv', index=False)"
   ]
  },
  {
   "cell_type": "code",
   "execution_count": 246,
   "metadata": {
    "collapsed": false
   },
   "outputs": [],
   "source": [
    "def make_grid(bounding_box, ncell):\n",
    "    \n",
    "    xmax, xmin, ymax, ymin = bounding_box \n",
    "    xgrid = np.linspace(xmin, xmax, ncell) \n",
    "    ygrid = np.linspace(ymin, ymax, ncell)\n",
    "    \n",
    "    mX, mY = np.meshgrid(xgrid, ygrid) \n",
    "    ngridX = mX.reshape(ncell*ncell, 1)\n",
    "    ngridY = mY.reshape(ncell*ncell, 1)\n",
    "    \n",
    "    return np.concatenate((ngridX, ngridY), axis=1)\n",
    "\n",
    "bounding_box = [38.5, 39.3, -119.8, -120.8] \n",
    "Xgrid = make_grid(bounding_box, 50)"
   ]
  },
  {
   "cell_type": "code",
   "execution_count": 323,
   "metadata": {
    "collapsed": false
   },
   "outputs": [
    {
     "name": "stderr",
     "output_type": "stream",
     "text": [
      "/Users/yiyange/anaconda/lib/python3.5/site-packages/ipykernel/__main__.py:1: FutureWarning:\n",
      "\n",
      "sort(columns=....) is deprecated, use sort_values(by=.....)\n",
      "\n"
     ]
    }
   ],
   "source": [
    "output = output.sort(['lat', 'lng'], ascending=[0, 1])\n",
    "output.reset_index(drop=True, inplace=True)"
   ]
  },
  {
   "cell_type": "code",
   "execution_count": 325,
   "metadata": {
    "collapsed": false
   },
   "outputs": [
    {
     "data": {
      "image/png": "[encoded data removed]",
      "text/plain": [
       "<matplotlib.figure.Figure at 0x117838828>"
      ]
     },
     "metadata": {},
     "output_type": "display_data"
    }
   ],
   "source": [
    "matrix = output[['pred']].as_matrix(columns=None).reshape((50,50))\n",
    "extent = [-120.8, -119.8,38.5, 39.3]\n",
    "plt.imshow(matrix, extent=extent)\n",
    "plt.gca().xaxis.set_major_locator(plt.NullLocator())\n",
    "plt.gca().yaxis.set_major_locator(plt.NullLocator())\n",
    "#plt.savefig('Heatmap.png',bbox_inches='tight',pad_inches = 0)"
   ]
  },
  {
   "cell_type": "code",
   "execution_count": 306,
   "metadata": {
    "collapsed": false
   },
   "outputs": [],
   "source": [
    "kml = simplekml.Kml()\n",
    "ground = kml.newgroundoverlay(name='GroundOverlay')\n",
    "# Put the png file into the same folder\n",
    "ground.icon.href = 'Heatmap.png' \n",
    "ground.lookat = simplekml.LookAt(gxaltitudemode=simplekml.GxAltitudeMode.relativetoseafloor,\n",
    "                                latitude=38.9, longitude=-120.3, range=120000, tilt=70)\n",
    "ground.latlonbox.north = 39.3\n",
    "ground.latlonbox.south = 38.5\n",
    "ground.latlonbox.east =  -120.8\n",
    "ground.latlonbox.west =  -119.8\n",
    "ground.latlonbox.rotation = 0\n",
    "kml.save(\"Visualization.kml\")"
   ]
  },
  {
   "cell_type": "code",
   "execution_count": null,
   "metadata": {
    "collapsed": true
   },
   "outputs": [],
   "source": [
    "# visualization"
   ]
  }
 ],
 "metadata": {
  "kernelspec": {
   "display_name": "Python 3",
   "language": "python",
   "name": "python3"
  },
  "language_info": {
   "codemirror_mode": {
    "name": "ipython",
    "version": 3
   },
   "file_extension": ".py",
   "mimetype": "text/x-python",
   "name": "python",
   "nbconvert_exporter": "python",
   "pygments_lexer": "ipython3",
   "version": "3.5.2"
  }
 },
 "nbformat": 4,
 "nbformat_minor": 0
}
