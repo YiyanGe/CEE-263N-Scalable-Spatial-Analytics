{
 "cells": [
  {
   "cell_type": "code",
   "execution_count": 40,
   "metadata": {
    "collapsed": false
   },
   "outputs": [],
   "source": [
    "import psycopg2\n",
    "import json\n",
    "import geojson\n",
    "import tempfile\n",
    "from django.db import transaction\n",
    "import pandas as pd"
   ]
  },
  {
   "cell_type": "code",
   "execution_count": 207,
   "metadata": {
    "collapsed": false
   },
   "outputs": [],
   "source": [
    "conn.rollback()\n",
    "cur.execute('DROP TABLE \"tweets\";')\n",
    "conn.commit()"
   ]
  },
  {
   "cell_type": "code",
   "execution_count": 206,
   "metadata": {
    "collapsed": false
   },
   "outputs": [],
   "source": [
    "tweets = pd.read_json('../../data/tweets_1M.json','r')\n",
    "tweets = tweets[tweets['lat']>30]"
   ]
  },
  {
   "cell_type": "code",
   "execution_count": 161,
   "metadata": {
    "collapsed": false
   },
   "outputs": [],
   "source": [
    "# Duplicate SQL connection using sqlalchemy to take advantage of \n",
    "# pandas built in \"to_sql\" method\n",
    "\n",
    "from sqlalchemy import create_engine\n",
    "enginestring = 'postgresql://{}:{}@localhost:5432/template_postgis'.format('postgres', 'teresa')\n",
    "engine = create_engine(enginestring)"
   ]
  },
  {
   "cell_type": "code",
   "execution_count": 185,
   "metadata": {
    "collapsed": false
   },
   "outputs": [
    {
     "name": "stdout",
     "output_type": "stream",
     "text": [
      "('PROJCS[\"WGS 84 / UTM zone 10N\",GEOGCS[\"WGS 84\",DATUM[\"WGS_1984\",SPHEROID[\"WGS 84\",6378137,298.257223563,AUTHORITY[\"EPSG\",\"7030\"]],AUTHORITY[\"EPSG\",\"6326\"]],PRIMEM[\"Greenwich\",0,AUTHORITY[\"EPSG\",\"8901\"]],UNIT[\"degree\",0.0174532925199433,AUTHORITY[\"EPSG\",\"9122\"]],AUTHORITY[\"EPSG\",\"4326\"]],PROJECTION[\"Transverse_Mercator\"],PARAMETER[\"latitude_of_origin\",0],PARAMETER[\"central_meridian\",-123],PARAMETER[\"scale_factor\",0.9996],PARAMETER[\"false_easting\",500000],PARAMETER[\"false_northing\",0],UNIT[\"metre\",1,AUTHORITY[\"EPSG\",\"9001\"]],AXIS[\"Easting\",EAST],AXIS[\"Northing\",NORTH],AUTHORITY[\"EPSG\",\"32610\"]]',)\n"
     ]
    }
   ],
   "source": [
    "connection = engine.connect()\n",
    "result = connection.execute(\"SELECT srtext FROM spatial_ref_sys WHERE srid = 32610;\")\n",
    "for row in result:\n",
    "    print (row)"
   ]
  },
  {
   "cell_type": "code",
   "execution_count": 208,
   "metadata": {
    "collapsed": false
   },
   "outputs": [],
   "source": [
    "tweets.to_sql('tweets', engine)"
   ]
  },
  {
   "cell_type": "code",
   "execution_count": 188,
   "metadata": {
    "collapsed": false
   },
   "outputs": [],
   "source": [
    "conn = psycopg2.connect(\"dbname=template_postgis user=postgres host=localhost password=teresa\")\n",
    "cur = conn.cursor()\n",
    "#cur.execute(\"\"\"SELECT srtext FROM spatial_ref_sys WHERE srid = 32610;\"\"\")\n",
    "#rows = cur.fetchall()"
   ]
  },
  {
   "cell_type": "code",
   "execution_count": 189,
   "metadata": {
    "collapsed": false
   },
   "outputs": [
    {
     "data": {
      "text/plain": [
       "[('index', 'bigint'),\n",
       " ('id', 'bigint'),\n",
       " ('lat', 'double precision'),\n",
       " ('lng', 'double precision'),\n",
       " ('text', 'text'),\n",
       " ('timeStamp', 'timestamp without time zone'),\n",
       " ('user_id', 'bigint')]"
      ]
     },
     "execution_count": 189,
     "metadata": {},
     "output_type": "execute_result"
    }
   ],
   "source": [
    "cur.execute(\"SELECT column_name, data_type FROM information_schema.columns WHERE table_name = 'tweets';\")\n",
    "cur.fetchall()"
   ]
  },
  {
   "cell_type": "code",
   "execution_count": 209,
   "metadata": {
    "collapsed": false
   },
   "outputs": [],
   "source": [
    "# New column for geometry\n",
    "cur.execute(\"SELECT AddGeometryColumn ('tweets','location',4326,'POINT',2);\")"
   ]
  },
  {
   "cell_type": "code",
   "execution_count": 210,
   "metadata": {
    "collapsed": false
   },
   "outputs": [],
   "source": [
    "cur.execute(\"UPDATE tweets SET location = ST_SetSRID(ST_Point(lng, lat), 4326);\")\n",
    "conn.commit()"
   ]
  },
  {
   "cell_type": "code",
   "execution_count": 73,
   "metadata": {
    "collapsed": false
   },
   "outputs": [
    {
     "data": {
      "text/plain": [
       "[]"
      ]
     },
     "execution_count": 73,
     "metadata": {},
     "output_type": "execute_result"
    }
   ],
   "source": [
    "# bash command to insert shapefile into postgis database\n",
    "# shp2pgsql -I -W \"latin1\" -s 4326  /Users/yiyange/Desktop/CE\\ 263N/data/tl_2010_06_county10/tl_2010_06_county10.shp public.ca_census_tract | psql -U postgres -d template_postgis\n",
    "\n",
    "# Check data types in the counties \n",
    "# cur.execute(\"SELECT column_name, data_type FROM information_schema.columns WHERE table_name = 'public.ca_census_tract';\")\n",
    "# cur.fetchall()\n",
    "#???"
   ]
  },
  {
   "cell_type": "code",
   "execution_count": null,
   "metadata": {
    "collapsed": false
   },
   "outputs": [],
   "source": [
    "cur.execute(\"SELECT column_name, data_type FROM information_schema.columns WHERE table_name = 'counties';\")\n",
    "cur.fetchall()"
   ]
  },
  {
   "cell_type": "code",
   "execution_count": 192,
   "metadata": {
    "collapsed": false
   },
   "outputs": [
    {
     "data": {
      "text/plain": [
       "[('index', 'bigint'),\n",
       " ('id', 'bigint'),\n",
       " ('lat', 'double precision'),\n",
       " ('lng', 'double precision'),\n",
       " ('text', 'text'),\n",
       " ('timeStamp', 'timestamp without time zone'),\n",
       " ('user_id', 'bigint'),\n",
       " ('location', 'USER-DEFINED')]"
      ]
     },
     "execution_count": 192,
     "metadata": {},
     "output_type": "execute_result"
    }
   ],
   "source": [
    "cur.execute(\"SELECT column_name, data_type FROM information_schema.columns WHERE table_name = 'tweets';\")\n",
    "cur.fetchall()"
   ]
  },
  {
   "cell_type": "code",
   "execution_count": 211,
   "metadata": {
    "collapsed": false
   },
   "outputs": [
    {
     "data": {
      "text/plain": [
       "[(85141,)]"
      ]
     },
     "execution_count": 211,
     "metadata": {},
     "output_type": "execute_result"
    }
   ],
   "source": [
    "# Calculate the number of tweets inside of Contra Costa County = 06013.\n",
    "\n",
    "conn.rollback()\n",
    "query = \"SELECT count(*) FROM counties, tweets \\\n",
    "         WHERE counties.geoid10='06013' \\\n",
    "         AND ST_Intersects(counties.geom, tweets.location);\"\n",
    "\n",
    "cur.execute(query)\n",
    "cur.fetchall()"
   ]
  },
  {
   "cell_type": "code",
   "execution_count": 214,
   "metadata": {
    "collapsed": false
   },
   "outputs": [
    {
     "ename": "InternalError",
     "evalue": "transform: couldn't project point (-6.85488 33.9534 0): latitude or longitude exceeded limits (-14)\n",
     "output_type": "error",
     "traceback": [
      "\u001b[0;31m---------------------------------------------------------------------------\u001b[0m",
      "\u001b[0;31mInternalError\u001b[0m                             Traceback (most recent call last)",
      "\u001b[0;32m<ipython-input-214-6dd609c908a1>\u001b[0m in \u001b[0;36m<module>\u001b[0;34m()\u001b[0m\n\u001b[1;32m      2\u001b[0m \u001b[0mconn\u001b[0m\u001b[0;34m.\u001b[0m\u001b[0mrollback\u001b[0m\u001b[0;34m(\u001b[0m\u001b[0;34m)\u001b[0m\u001b[0;34m\u001b[0m\u001b[0m\n\u001b[1;32m      3\u001b[0m \u001b[0mquery\u001b[0m \u001b[0;34m=\u001b[0m \u001b[0;34m\"SELECT count(*) FROM counties, tweets         WHERE counties.geoid10='06001'         AND NOT ST_Dwithin(ST_Transform(counties.geom, 26910), ST_Transform(tweets.location, 26910), 160934);\"\u001b[0m\u001b[0;34m\u001b[0m\u001b[0m\n\u001b[0;32m----> 4\u001b[0;31m \u001b[0mcur\u001b[0m\u001b[0;34m.\u001b[0m\u001b[0mexecute\u001b[0m\u001b[0;34m(\u001b[0m\u001b[0mquery\u001b[0m\u001b[0;34m)\u001b[0m\u001b[0;34m\u001b[0m\u001b[0m\n\u001b[0m\u001b[1;32m      5\u001b[0m \u001b[0mcur\u001b[0m\u001b[0;34m.\u001b[0m\u001b[0mfetchall\u001b[0m\u001b[0;34m(\u001b[0m\u001b[0;34m)\u001b[0m\u001b[0;34m\u001b[0m\u001b[0m\n",
      "\u001b[0;31mInternalError\u001b[0m: transform: couldn't project point (-6.85488 33.9534 0): latitude or longitude exceeded limits (-14)\n"
     ]
    }
   ],
   "source": [
    "# How many Tweets fall 100 miles outside of Alameda County\n",
    "conn.rollback()\n",
    "query = \"SELECT count(*) FROM counties, tweets \\\n",
    "        WHERE counties.geoid10='06001' \\\n",
    "        AND NOT ST_Dwithin(ST_Transform(counties.geom, 26910), ST_Transform(tweets.location, 26910), 160934);\"\n",
    "cur.execute(query)\n",
    "cur.fetchall()"
   ]
  },
  {
   "cell_type": "code",
   "execution_count": 135,
   "metadata": {
    "collapsed": false
   },
   "outputs": [],
   "source": [
    "conn.rollback()"
   ]
  },
  {
   "cell_type": "code",
   "execution_count": 139,
   "metadata": {
    "collapsed": false
   },
   "outputs": [
    {
     "data": {
      "text/plain": [
       "[('geoid', 'character varying'),\n",
       " ('sumlev', 'character varying'),\n",
       " ('state', 'character varying'),\n",
       " ('county', 'character varying'),\n",
       " ('cbsa', 'character varying'),\n",
       " ('csa', 'character varying'),\n",
       " ('necta', 'integer'),\n",
       " ('cnecta', 'integer'),\n",
       " ('name', 'character varying'),\n",
       " ('pop100', 'integer'),\n",
       " ('hu100', 'integer'),\n",
       " ('pop1002000', 'integer'),\n",
       " ('hu1002000', 'integer'),\n",
       " ('p001001', 'integer'),\n",
       " ('p0010012000', 'integer')]"
      ]
     },
     "execution_count": 139,
     "metadata": {},
     "output_type": "execute_result"
    }
   ],
   "source": [
    "#query = 'ALTER TABLE \"ca_census_data\" RENAME COLUMN \"pop100200\" TO \"pop1002000\"'\n",
    "#cur.execute(query)\n",
    "cur.execute(\"SELECT column_name, data_type FROM information_schema.columns WHERE table_name = 'ca_census_data';\")\n",
    "cur.fetchall()"
   ]
  },
  {
   "cell_type": "code",
   "execution_count": 138,
   "metadata": {
    "collapsed": true
   },
   "outputs": [],
   "source": [
    "conn.commit()"
   ]
  },
  {
   "cell_type": "code",
   "execution_count": 198,
   "metadata": {
    "collapsed": false
   },
   "outputs": [],
   "source": [
    "conn.rollback()\n",
    "query = \"\"\"\n",
    "SELECT \n",
    "\n",
    "county_pop.name, \n",
    "county_tweets.count_tweets::float/county_pop.pop::float\n",
    "\n",
    "FROM\n",
    "\n",
    "    (SELECT counties.name10 as name, ca_census_data.pop1002000 as pop, counties.geom as geom \n",
    "    FROM ca_census_data \n",
    "    INNER JOIN counties \n",
    "    ON counties.geoid10 = ca_census_data.geoid) county_pop\n",
    "    \n",
    "    INNER JOIN\n",
    "\n",
    "    (SELECT counties.name10 as name, count(*) as count_tweets \n",
    "    FROM tweets, counties\n",
    "    WHERE ST_Intersects(tweets.location, counties.geom)\n",
    "    GROUP BY counties.name10) county_tweets\n",
    "\n",
    "ON county_pop.name = county_tweets.name;\n",
    "\n",
    "\"\"\"\n",
    "\n",
    "cur.execute(query)\n",
    "result = cur.fetchall()"
   ]
  },
  {
   "cell_type": "code",
   "execution_count": 199,
   "metadata": {
    "collapsed": false
   },
   "outputs": [
    {
     "data": {
      "text/html": [
       "<div>\n",
       "<table border=\"1\" class=\"dataframe\">\n",
       "  <thead>\n",
       "    <tr style=\"text-align: right;\">\n",
       "      <th></th>\n",
       "      <th>NAME10</th>\n",
       "      <th>tweets_per_capita</th>\n",
       "    </tr>\n",
       "  </thead>\n",
       "  <tbody>\n",
       "    <tr>\n",
       "      <th>0</th>\n",
       "      <td>Orange</td>\n",
       "      <td>0.002740</td>\n",
       "    </tr>\n",
       "    <tr>\n",
       "      <th>1</th>\n",
       "      <td>Tehama</td>\n",
       "      <td>0.045914</td>\n",
       "    </tr>\n",
       "    <tr>\n",
       "      <th>2</th>\n",
       "      <td>Santa Barbara</td>\n",
       "      <td>0.001530</td>\n",
       "    </tr>\n",
       "    <tr>\n",
       "      <th>3</th>\n",
       "      <td>Monterey</td>\n",
       "      <td>0.016467</td>\n",
       "    </tr>\n",
       "    <tr>\n",
       "      <th>4</th>\n",
       "      <td>Placer</td>\n",
       "      <td>0.002685</td>\n",
       "    </tr>\n",
       "  </tbody>\n",
       "</table>\n",
       "</div>"
      ],
      "text/plain": [
       "          NAME10  tweets_per_capita\n",
       "0         Orange           0.002740\n",
       "1         Tehama           0.045914\n",
       "2  Santa Barbara           0.001530\n",
       "3       Monterey           0.016467\n",
       "4         Placer           0.002685"
      ]
     },
     "execution_count": 199,
     "metadata": {},
     "output_type": "execute_result"
    }
   ],
   "source": [
    "df = pd.DataFrame(result, columns=['NAME10', 'tweets_per_capita'])\n",
    "df.head()"
   ]
  },
  {
   "cell_type": "code",
   "execution_count": null,
   "metadata": {
    "collapsed": true
   },
   "outputs": [],
   "source": []
  }
 ],
 "metadata": {
  "kernelspec": {
   "display_name": "Python 3",
   "language": "python",
   "name": "python3"
  },
  "language_info": {
   "codemirror_mode": {
    "name": "ipython",
    "version": 3
   },
   "file_extension": ".py",
   "mimetype": "text/x-python",
   "name": "python",
   "nbconvert_exporter": "python",
   "pygments_lexer": "ipython3",
   "version": "3.5.2"
  }
 },
 "nbformat": 4,
 "nbformat_minor": 0
}
