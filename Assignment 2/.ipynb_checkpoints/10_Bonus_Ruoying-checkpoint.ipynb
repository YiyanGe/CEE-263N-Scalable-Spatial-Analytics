{
 "cells": [
  {
   "cell_type": "code",
   "execution_count": 1,
   "metadata": {
    "collapsed": false
   },
   "outputs": [],
   "source": [
    "%matplotlib inline  \n",
    "\n",
    "import json\n",
    "import numpy as np\n",
    "from sklearn.cluster import MiniBatchKMeans, DBSCAN\n",
    "import pandas as pd\n",
    "import math\n",
    "import matplotlib.pyplot as plt"
   ]
  },
  {
   "cell_type": "code",
   "execution_count": 1,
   "metadata": {
    "collapsed": false
   },
   "outputs": [
    {
     "name": "stdout",
     "output_type": "stream",
     "text": [
      "['C:\\\\Anaconda\\\\lib\\\\site-packages\\\\numpy']\n"
     ]
    }
   ],
   "source": [
    "import numpy\n",
    "print numpy.__path__"
   ]
  },
  {
   "cell_type": "code",
   "execution_count": 4,
   "metadata": {
    "collapsed": false
   },
   "outputs": [],
   "source": [
    "import matplotlib.pyplot as plt"
   ]
  },
  {
   "cell_type": "code",
   "execution_count": 5,
   "metadata": {
    "collapsed": false
   },
   "outputs": [
    {
     "name": "stdout",
     "output_type": "stream",
     "text": [
      "1.11.2\n"
     ]
    }
   ],
   "source": [
    "import numpy\n",
    "print numpy.__version__"
   ]
  },
  {
   "cell_type": "code",
   "execution_count": 11,
   "metadata": {
    "collapsed": false
   },
   "outputs": [
    {
     "name": "stdout",
     "output_type": "stream",
     "text": [
      "['C:\\\\Anaconda\\\\lib\\\\site-packages\\\\numpy']\n"
     ]
    }
   ],
   "source": [
    "import numpy\n",
    "print numpy.__path__"
   ]
  },
  {
   "cell_type": "code",
   "execution_count": 3,
   "metadata": {
    "collapsed": false
   },
   "outputs": [],
   "source": [
    "# Read 1M tweeter data\n",
    "sub_tweets = np.ones((100000, 2))\n",
    "with open('Data/tweets_1M.json', 'r') as f:\n",
    "    tweets = json.load(f)\n",
    "# Get X,Y coordinates\n",
    "for i in range(0, 100000):\n",
    "    sub_tweets[i][0] = tweets[i]['lat'] * 89.7\n",
    "    sub_tweets[i][1] = tweets[i]['lng'] * 112.7"
   ]
  },
  {
   "cell_type": "code",
   "execution_count": 4,
   "metadata": {
    "collapsed": true
   },
   "outputs": [],
   "source": [
    "# Import sample data\n",
    "Mbk_Clusters = 20\n",
    "batch_size = 50\n",
    "total_clusters = 0\n",
    "all_clusters=[]"
   ]
  },
  {
   "cell_type": "code",
   "execution_count": 5,
   "metadata": {
    "collapsed": true
   },
   "outputs": [],
   "source": [
    "# Compute clustering with MiniBatch KMeans\n",
    "mbk = MiniBatchKMeans(init='k-means++', n_clusters = Mbk_Clusters, batch_size=batch_size, n_init=10, max_no_improvement=10,\n",
    "                      verbose=0)\n",
    "mbk.fit(sub_tweets)\n",
    "mbk_means_labels = mbk.labels_\n",
    "mbk_means_cluster_centers = mbk.cluster_centers_\n",
    "mbk_means_labels_unique = np.unique(mbk_means_labels)\n",
    "#############################################################################\n",
    "# Compute clustering of MiniBatch KMeans clusters with DBScan\n",
    "# read each MiniBatch KMeans cluster, store the samples in sub_cluster\n",
    "for ID_mbk in mbk_means_labels_unique:\n",
    "    sub_cluster = np.ones((0, 2))\n",
    "    for j in range(0, 100000):\n",
    "        if mbk_means_labels[j] == ID_mbk:\n",
    "            sub_cluster = np.vstack((sub_cluster, sub_tweets[j]))\n",
    "    #############################################################################\n",
    "    # Compute clustering with DBScan with MiniBatch KMeans cluster size >0\n",
    "    if sub_cluster.size >0:\n",
    "        db = DBSCAN(eps=0.1, min_samples=100).fit(sub_cluster)\n",
    "        core_samples_mask = np.zeros_like(db.labels_, dtype=bool)\n",
    "        core_samples_mask[db.core_sample_indices_] = True\n",
    "        db_labels = db.labels_\n",
    "        db_n_clusters_ = len(set(db_labels)) - (1 if -1 in db_labels else 0)\n",
    "        db_labels_unique = np.unique(db_labels)\n",
    "        clusters = [sub_cluster[db_labels == i] for i in xrange(db_n_clusters_)]\n",
    "        total_clusters = total_clusters + db_n_clusters_\n",
    "    all_clusters.extend(clusters)"
   ]
  },
  {
   "cell_type": "code",
   "execution_count": 6,
   "metadata": {
    "collapsed": false
   },
   "outputs": [
    {
     "name": "stdout",
     "output_type": "stream",
     "text": [
      "    id  distance\n",
      "35  35  0.006552\n",
      "23  23  0.007040\n",
      "39  39  0.009278\n",
      "27  27  0.017765\n",
      "5    5  0.027528\n",
      "19  19  0.029565\n",
      "20  20  0.031564\n",
      "45  45  0.033803\n",
      "40  40  0.033964\n",
      "33  33  0.036438\n",
      "54  54  0.042350\n",
      "28  28  0.043023\n",
      "56  56  0.046578\n",
      "51  51  0.046995\n",
      "16  16  0.049127\n",
      "34  34  0.055812\n",
      "22  22  0.057380\n",
      "26  26  0.063863\n",
      "37  37  0.066025\n",
      "25  25  0.066374\n",
      "47  47  0.067588\n",
      "38  38  0.074514\n",
      "36  36  0.074990\n",
      "31  31  0.075192\n",
      "48  48  0.080576\n",
      "15  15  0.097623\n",
      "44  44  0.097687\n",
      "14  14  0.100950\n",
      "29  29  0.101690\n",
      "8    8  0.104645\n",
      "53  53  0.107014\n",
      "13  13  0.107137\n",
      "1    1  0.109842\n",
      "18  18  0.112002\n",
      "12  12  0.117639\n",
      "24  24  0.118370\n",
      "17  17  0.132847\n",
      "30  30  0.134871\n",
      "57  57  0.140131\n",
      "4    4  0.149748\n",
      "21  21  0.152910\n",
      "50  50  0.158931\n",
      "32  32  0.160397\n",
      "41  41  0.161575\n",
      "11  11  0.162177\n",
      "52  52  0.163227\n",
      "9    9  0.166062\n",
      "43  43  0.167682\n",
      "49  49  0.169366\n",
      "6    6  0.172583\n",
      "55  55  0.175382\n",
      "46  46  0.185966\n",
      "2    2  0.193217\n",
      "42  42  0.196712\n",
      "7    7  0.197916\n",
      "10  10  0.200332\n",
      "0    0  0.284070\n",
      "3    3  0.629700\n"
     ]
    },
    {
     "data": {
      "image/png": "[encoded data removed]",
      "text/plain": [
       "<matplotlib.figure.Figure at 0x10ddb1cf8>"
      ]
     },
     "metadata": {},
     "output_type": "display_data"
    }
   ],
   "source": [
    "centriod=np.ones((total_clusters,2))\n",
    "for i in xrange(total_clusters):\n",
    "    centriod[i]=np.mean(all_clusters[i], axis=0)\n",
    "df=pd.DataFrame(index=xrange(total_clusters))\n",
    "df['id']=pd.Series().astype(int)\n",
    "df['distance']=pd.Series()\n",
    "i=0\n",
    "j=0\n",
    "for i in xrange(total_clusters):\n",
    "    df['id'][i]=i\n",
    "    df2=pd.DataFrame(index=xrange(len(all_clusters[i])))\n",
    "    df2['distance']=pd.Series()\n",
    "    for j in xrange(len(all_clusters[i])):\n",
    "        m=float(all_clusters[i][j][0]-centriod[i][0])\n",
    "        n=float(all_clusters[i][j][1]-centriod[i][1])\n",
    "        df2['distance'][j]=math.hypot(m,n)\n",
    "    df['distance'][i] = df2['distance'].max()\n",
    "result= df.sort(['distance'])\n",
    "print result\n",
    "result.plot(x='id',y='distance',kind='bar')\n",
    "plt.xlabel(\"Cluster ID\")\n",
    "plt.ylabel(\"Radius_KM\")\n",
    "plt.show()"
   ]
  }
 ],
 "metadata": {
  "kernelspec": {
   "display_name": "Python 3",
   "language": "python",
   "name": "python3"
  },
  "language_info": {
   "codemirror_mode": {
    "name": "ipython",
    "version": 3
   },
   "file_extension": ".py",
   "mimetype": "text/x-python",
   "name": "python",
   "nbconvert_exporter": "python",
   "pygments_lexer": "ipython3",
   "version": "3.5.2"
  }
 },
 "nbformat": 4,
 "nbformat_minor": 0
}
