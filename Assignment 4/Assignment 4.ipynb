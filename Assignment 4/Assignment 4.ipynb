{
 "cells": [
  {
   "cell_type": "code",
   "execution_count": null,
   "metadata": {
    "collapsed": true
   },
   "outputs": [],
   "source": [
    "import clicker"
   ]
  },
  {
   "cell_type": "code",
   "execution_count": null,
   "metadata": {},
   "outputs": [],
   "source": [
    "clicker.main()"
   ]
  },
  {
   "cell_type": "code",
   "execution_count": null,
   "metadata": {
    "collapsed": true
   },
   "outputs": [],
   "source": [
    "import numpy as np\n",
    "from sklearn import svm\n",
    "import pickle\n",
    "from matplotlib import pyplot as plt\n",
    "from pylab import *\n",
    "from sklearn import cross_validation\n",
    "from sklearn.cross_validation import cross_val_score, KFold\n",
    "# magic command to display matplotlib plots inline within the ipython notebook webpage\n",
    "%matplotlib inline"
   ]
  },
  {
   "cell_type": "code",
   "execution_count": null,
   "metadata": {
    "collapsed": true
   },
   "outputs": [],
   "source": [
    "#X.np and Y.np is the raw data\n",
    "X=np.load('X_trn_raw.np')\n",
    "Y=np.load('Y_trn_raw.np')\n",
    "# X=np.load('X_trn_0.np',allow_pickle=True, fix_imports=True, encoding='latin1')\n",
    "# Y=np.load('Y_trn_0.np',allow_pickle=True, fix_imports=True, encoding='latin1')"
   ]
  },
  {
   "cell_type": "code",
   "execution_count": null,
   "metadata": {
    "collapsed": true
   },
   "outputs": [],
   "source": [
    "# Clean X arrays\n",
    "length = [len(X[index]) for index in range(0, len(X))]\n",
    "index = [i for i, x in enumerate(length) if x != 1600]\n",
    "\n",
    "n=0\n",
    "for ind in index:\n",
    "    X=np.delete(X,ind-n, 0)\n",
    "    Y=np.delete(Y,ind-n, 0)\n",
    "    n+=1"
   ]
  },
  {
   "cell_type": "code",
   "execution_count": null,
   "metadata": {
    "collapsed": true
   },
   "outputs": [],
   "source": [
    "X = np.array([list(X[index]) for index in range(0,len(X))], dtype=float32)\n",
    "X = np.array(X.tolist())\n",
    "Y = np.array(Y.tolist())\n",
    "#Y = np.array(Y.tolist())\n",
    "# print (Y.shape)\n",
    "# print (X.shape)"
   ]
  },
  {
   "cell_type": "code",
   "execution_count": null,
   "metadata": {},
   "outputs": [],
   "source": [
    "kf=KFold(len(X),n_folds=10)\n",
    "\n",
    "penalties=[200,220,240,260]\n",
    "#sizes = [100,200,300,400]\n",
    "colors = ['lightpink','lightsteelblue','palevioletred','slategrey']\n",
    "fig,ax = plt.subplots(1, 1, figsize = [8,10]) \n",
    "\n",
    "for penalty, color in zip(penalties, colors):\n",
    "#for size, color in zip(sizes, colors):\n",
    "    result = []\n",
    "    for trn,tst in kf:\n",
    "\n",
    "        Y_trn = Y[trn]\n",
    "        X_trn = X[trn]\n",
    "\n",
    "        X_tst =  X[tst]\n",
    "        Y_true = Y[tst]\n",
    "\n",
    "        clf=svm.SVC(C=penalty)\n",
    "        clf.fit(X_trn,Y_trn)\n",
    "        Y_pred = clf.predict(X_tst)\n",
    "        err=0\n",
    "        for count in range(len(X_tst)):\n",
    "            #print Y_true[count]\n",
    "            #print Y_pred[count]\n",
    "            if Y_true[count] != Y_pred[count]:\n",
    "                err += 1  \n",
    "        num_correct = 1-float(err)/len(X_tst)\n",
    "        result.append(num_correct)\n",
    "        \n",
    "    #ax.scatter(range(0, len(result)), result, c=color, s=20, edgecolor='')\n",
    "    ax.plot(range(0,len(result)),result,color=color)\n",
    "    "
   ]
  },
  {
   "cell_type": "code",
   "execution_count": null,
   "metadata": {
    "collapsed": true
   },
   "outputs": [],
   "source": [
    "clf=svm.SVC(C=200.0)\n",
    "clf.fit(X,Y)\n",
    "with open('classifier_yiyange.pickle','wb') as f:\n",
    "    pickle.dump(clf, f,fix_imports=True)"
   ]
  },
  {
   "cell_type": "code",
   "execution_count": null,
   "metadata": {},
   "outputs": [],
   "source": [
    "### this will be replaced with the real test image ###\n",
    "im_test = plt.imread('parking_test_preview.png')\n",
    "###\n",
    "\n",
    "\n",
    "# This function MUST take locations (loc) and an image (im) \n",
    "# as input parameters and return the feature vector\n",
    "def my_feature_vector(loc, im, size = 10):\n",
    "    w = size\n",
    "    # a patch of the size w cenetered at loc is extracted as a feature vector\n",
    "    patch = im[loc[1]-w:loc[1]+w, loc[0]-w:loc[0]+w]\n",
    "    p = np.array(patch).flatten()\n",
    "    return p \n",
    "  \n",
    "\n",
    "## 10 preview test locations\n",
    "### these will be replaced with the real set of 100 test locations ###\n",
    "test_locs_labs = np.load('test_locations_and_labels_preview.np')\n",
    "\n",
    "test_locs   = test_locs_labs[:,0:2]\n",
    "test_labels = test_locs_labs[:,2]\n",
    "\n",
    "X_test = []\n",
    "for loc in test_locs:\n",
    "    X_test.append( my_feature_vector(loc, im_test))\n",
    "\n",
    "my_classifier = pickle.load(open('classifier_yiyange.pickle')) \n",
    "\n",
    "score = 0\n",
    "for i, xtest in enumerate(X_test): \n",
    "  \n",
    "  predicted = clf.predict(xtest) \n",
    "  \n",
    "  if (test_labels[i] == 1.0)&(predicted == 1.0):\n",
    "        score = score + 2\n",
    "  \n",
    "  if (test_labels[i] == 1.0)&(predicted == 0.0):\n",
    "        score = score - 0.5\n",
    "  \n",
    "  if (test_labels[i] == 0.0)&(predicted == 1.0):\n",
    "        score = score - 0.5\n",
    "  \n",
    "  if (test_labels[i] == 0.0)&(predicted == 0.0):\n",
    "        score = score + 0.25\n",
    "\n",
    "print (test_labels[i], predicted, score )\n",
    "\n",
    "print ('You final Score is: %.2f' % score)"
   ]
  },
  {
   "cell_type": "code",
   "execution_count": null,
   "metadata": {
    "collapsed": true
   },
   "outputs": [],
   "source": []
  }
 ],
 "metadata": {
  "kernelspec": {
   "display_name": "Python 3",
   "language": "python",
   "name": "python3"
  },
  "language_info": {
   "codemirror_mode": {
    "name": "ipython",
    "version": 3
   },
   "file_extension": ".py",
   "mimetype": "text/x-python",
   "name": "python",
   "nbconvert_exporter": "python",
   "pygments_lexer": "ipython3",
   "version": "3.5.2"
  }
 },
 "nbformat": 4,
 "nbformat_minor": 1
}
