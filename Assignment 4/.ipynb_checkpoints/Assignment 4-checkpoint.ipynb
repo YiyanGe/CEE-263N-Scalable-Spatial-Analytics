{
 "cells": [
  {
   "cell_type": "code",
   "execution_count": 12,
   "metadata": {
    "collapsed": false
   },
   "outputs": [],
   "source": [
    "import clicker\n",
    "import numpy as np\n",
    "from sklearn import svm\n",
    "import pickle\n",
    "from matplotlib import pyplot as plt\n",
    "from pylab import *\n",
    "from sklearn import cross_validation\n",
    "from sklearn.cross_validation import cross_val_score, KFold\n",
    "# magic command to display matplotlib plots inline within the ipython notebook webpage\n",
    "%matplotlib inline"
   ]
  },
  {
   "cell_type": "code",
   "execution_count": null,
   "metadata": {
    "collapsed": false
   },
   "outputs": [],
   "source": [
    "clicker.main()"
   ]
  },
  {
   "cell_type": "code",
   "execution_count": 4,
   "metadata": {
    "collapsed": false
   },
   "outputs": [],
   "source": [
    "#X.np and Y.np is the raw data\n",
    "X=np.load('X_trn_raw.np')\n",
    "Y=np.load('Y_trn_raw.np')"
   ]
  },
  {
   "cell_type": "code",
   "execution_count": 10,
   "metadata": {
    "collapsed": false
   },
   "outputs": [
    {
     "data": {
      "text/plain": [
       "(555,)"
      ]
     },
     "execution_count": 10,
     "metadata": {},
     "output_type": "execute_result"
    }
   ],
   "source": [
    "# Clean X arrays\n",
    "length = [len(X[index]) for index in range(0, len(X))]\n",
    "index = [i for i, x in enumerate(length) if x != 1600]\n",
    "\n",
    "for ind in index:\n",
    "    X=np.delete(X,ind, 0)\n",
    "    Y=np.delete(Y,ind,0)\n",
    "\n",
    "X = np.array(list([X[index] for index in range(0,len(X))]))\n",
    "X = np.array(X.tolist())\n",
    "Y = np.array(Y.tolist())\n",
    "Y.shape"
   ]
  },
  {
   "cell_type": "code",
   "execution_count": 24,
   "metadata": {
    "collapsed": false
   },
   "outputs": [
    {
     "data": {
      "image/png": "[encoded data removed]",
      "text/plain": [
       "<matplotlib.figure.Figure at 0x10f274940>"
      ]
     },
     "metadata": {},
     "output_type": "display_data"
    }
   ],
   "source": [
    "kf=KFold(len(X),n_folds=10)\n",
    "\n",
    "#penalties=[200,300,400,500]\n",
    "sizes = [100,200,300,400]\n",
    "colors = ['lightpink','lightsteelblue','palevioletred','slategrey']\n",
    "fig,ax = plt.subplots(1, 1, figsize = [8,10]) \n",
    "\n",
    "#for penalty, color in zip(penalties, colors):\n",
    "for size, color in zip(sizes, colors):\n",
    "    result = []\n",
    "    for trn,tst in kf:\n",
    "\n",
    "        Y_trn = Y[trn]\n",
    "        X_trn = X[trn]\n",
    "\n",
    "        X_tst =  X[tst]\n",
    "        Y_true = Y[tst]\n",
    "\n",
    "        clf=svm.SVC(C=500, cache_size=size)\n",
    "        clf.fit(X_trn,Y_trn)\n",
    "        Y_pred = clf.predict(X_tst)\n",
    "        err=0\n",
    "        for count in range(len(X_tst)):\n",
    "            #print Y_true[count]\n",
    "            #print Y_pred[count]\n",
    "            if Y_true[count] != Y_pred[count]:\n",
    "                err += 1  \n",
    "        num_correct = 1-float(err)/len(X_tst)\n",
    "        result.append(num_correct)\n",
    "        \n",
    "    #ax.scatter(range(0, len(result)), result, c=color, s=20, edgecolor='')\n",
    "    ax.plot(range(0,len(result)),result,color=color)\n",
    "    "
   ]
  },
  {
   "cell_type": "code",
   "execution_count": 33,
   "metadata": {
    "collapsed": false
   },
   "outputs": [],
   "source": [
    "clf=svm.SVC(C=500.0)\n",
    "clf.fit(X,Y)\n",
    "with open('classifier_yiyange.pickle','rb') as f:\n",
    "    pickle.dump(clf, f,fix_imports=True)"
   ]
  },
  {
   "cell_type": "code",
   "execution_count": 28,
   "metadata": {
    "collapsed": false
   },
   "outputs": [
    {
     "ename": "SyntaxError",
     "evalue": "Missing parentheses in call to 'print' (submission_yiyange.py, line 53)",
     "output_type": "error",
     "traceback": [
      "\u001b[0;36m  File \u001b[0;32m\"/Users/yiyange/Desktop/CE 263N/CEE-263N-Scalable-Spatial-Analytics/Assignment 4/submission_yiyange.py\"\u001b[0;36m, line \u001b[0;32m53\u001b[0m\n\u001b[0;31m    print test_labels[i], predicted, score\u001b[0m\n\u001b[0m                    ^\u001b[0m\n\u001b[0;31mSyntaxError\u001b[0m\u001b[0;31m:\u001b[0m Missing parentheses in call to 'print'\n"
     ]
    }
   ],
   "source": [
    "import submission_yiyange"
   ]
  },
  {
   "cell_type": "code",
   "execution_count": 26,
   "metadata": {
    "collapsed": false
   },
   "outputs": [
    {
     "name": "stderr",
     "output_type": "stream",
     "text": [
      "/Users/yiyange/anaconda/lib/python3.5/site-packages/ipykernel/__main__.py:11: DeprecationWarning: using a non-integer number instead of an integer will result in an error in the future\n"
     ]
    },
    {
     "ename": "UnicodeDecodeError",
     "evalue": "'utf-8' codec can't decode byte 0x80 in position 0: invalid start byte",
     "output_type": "error",
     "traceback": [
      "\u001b[0;31m---------------------------------------------------------------------------\u001b[0m",
      "\u001b[0;31mUnicodeDecodeError\u001b[0m                        Traceback (most recent call last)",
      "\u001b[0;32m<ipython-input-26-5f6cb0f1eaff>\u001b[0m in \u001b[0;36m<module>\u001b[0;34m()\u001b[0m\n\u001b[1;32m     25\u001b[0m     \u001b[0mX_test\u001b[0m\u001b[0;34m.\u001b[0m\u001b[0mappend\u001b[0m\u001b[0;34m(\u001b[0m \u001b[0mmy_feature_vector\u001b[0m\u001b[0;34m(\u001b[0m\u001b[0mloc\u001b[0m\u001b[0;34m,\u001b[0m \u001b[0mim_test\u001b[0m\u001b[0;34m)\u001b[0m\u001b[0;34m)\u001b[0m\u001b[0;34m\u001b[0m\u001b[0m\n\u001b[1;32m     26\u001b[0m \u001b[0;34m\u001b[0m\u001b[0m\n\u001b[0;32m---> 27\u001b[0;31m \u001b[0mmy_classifier\u001b[0m \u001b[0;34m=\u001b[0m \u001b[0mpickle\u001b[0m\u001b[0;34m.\u001b[0m\u001b[0mload\u001b[0m\u001b[0;34m(\u001b[0m\u001b[0mopen\u001b[0m\u001b[0;34m(\u001b[0m\u001b[0;34m'classifier_yiyange.pickle'\u001b[0m\u001b[0;34m)\u001b[0m\u001b[0;34m)\u001b[0m\u001b[0;34m\u001b[0m\u001b[0m\n\u001b[0m\u001b[1;32m     28\u001b[0m \u001b[0;34m\u001b[0m\u001b[0m\n\u001b[1;32m     29\u001b[0m \u001b[0mscore\u001b[0m \u001b[0;34m=\u001b[0m \u001b[0;36m0\u001b[0m\u001b[0;34m\u001b[0m\u001b[0m\n",
      "\u001b[0;32m/Users/yiyange/anaconda/lib/python3.5/codecs.py\u001b[0m in \u001b[0;36mdecode\u001b[0;34m(self, input, final)\u001b[0m\n\u001b[1;32m    319\u001b[0m         \u001b[0;31m# decode input (taking the buffer into account)\u001b[0m\u001b[0;34m\u001b[0m\u001b[0;34m\u001b[0m\u001b[0m\n\u001b[1;32m    320\u001b[0m         \u001b[0mdata\u001b[0m \u001b[0;34m=\u001b[0m \u001b[0mself\u001b[0m\u001b[0;34m.\u001b[0m\u001b[0mbuffer\u001b[0m \u001b[0;34m+\u001b[0m \u001b[0minput\u001b[0m\u001b[0;34m\u001b[0m\u001b[0m\n\u001b[0;32m--> 321\u001b[0;31m         \u001b[0;34m(\u001b[0m\u001b[0mresult\u001b[0m\u001b[0;34m,\u001b[0m \u001b[0mconsumed\u001b[0m\u001b[0;34m)\u001b[0m \u001b[0;34m=\u001b[0m \u001b[0mself\u001b[0m\u001b[0;34m.\u001b[0m\u001b[0m_buffer_decode\u001b[0m\u001b[0;34m(\u001b[0m\u001b[0mdata\u001b[0m\u001b[0;34m,\u001b[0m \u001b[0mself\u001b[0m\u001b[0;34m.\u001b[0m\u001b[0merrors\u001b[0m\u001b[0;34m,\u001b[0m \u001b[0mfinal\u001b[0m\u001b[0;34m)\u001b[0m\u001b[0;34m\u001b[0m\u001b[0m\n\u001b[0m\u001b[1;32m    322\u001b[0m         \u001b[0;31m# keep undecoded input until the next call\u001b[0m\u001b[0;34m\u001b[0m\u001b[0;34m\u001b[0m\u001b[0m\n\u001b[1;32m    323\u001b[0m         \u001b[0mself\u001b[0m\u001b[0;34m.\u001b[0m\u001b[0mbuffer\u001b[0m \u001b[0;34m=\u001b[0m \u001b[0mdata\u001b[0m\u001b[0;34m[\u001b[0m\u001b[0mconsumed\u001b[0m\u001b[0;34m:\u001b[0m\u001b[0;34m]\u001b[0m\u001b[0;34m\u001b[0m\u001b[0m\n",
      "\u001b[0;31mUnicodeDecodeError\u001b[0m: 'utf-8' codec can't decode byte 0x80 in position 0: invalid start byte"
     ]
    }
   ],
   "source": [
    "### this will be replaced with the real test image ###\n",
    "im_test = plt.imread('parking_test_preview.png')\n",
    "###\n",
    "\n",
    "\n",
    "# This function MUST take locations (loc) and an image (im) \n",
    "# as input parameters and return the feature vector\n",
    "def my_feature_vector(loc, im, size = 10):\n",
    "    w = size\n",
    "    # a patch of the size w cenetered at loc is extracted as a feature vector\n",
    "    patch = im[loc[1]-w:loc[1]+w, loc[0]-w:loc[0]+w]\n",
    "    p = np.array(patch).flatten()\n",
    "    return p \n",
    "  \n",
    "\n",
    "## 10 preview test locations\n",
    "### these will be replaced with the real set of 100 test locations ###\n",
    "test_locs_labs = np.load('test_locations_and_labels_preview.np')\n",
    "\n",
    "test_locs   = test_locs_labs[:,0:2]\n",
    "test_labels = test_locs_labs[:,2]\n",
    "\n",
    "X_test = []\n",
    "for loc in test_locs:\n",
    "    X_test.append( my_feature_vector(loc, im_test))\n",
    "\n",
    "my_classifier = pickle.load(open('classifier_yiyange.pickle')) \n",
    "\n",
    "score = 0\n",
    "for i, xtest in enumerate(X_test): \n",
    "  \n",
    "  predicted = clf.predict(xtest) \n",
    "  \n",
    "  if (test_labels[i] == 1.0)&(predicted == 1.0):\n",
    "        score = score + 2\n",
    "  \n",
    "  if (test_labels[i] == 1.0)&(predicted == 0.0):\n",
    "        score = score - 0.5\n",
    "  \n",
    "  if (test_labels[i] == 0.0)&(predicted == 1.0):\n",
    "        score = score - 0.5\n",
    "  \n",
    "  if (test_labels[i] == 0.0)&(predicted == 0.0):\n",
    "        score = score + 0.25\n",
    "\n",
    "print (test_labels[i], predicted, score )\n",
    "\n",
    "print ('You final Score is: %.2f' % score)"
   ]
  },
  {
   "cell_type": "code",
   "execution_count": null,
   "metadata": {
    "collapsed": true
   },
   "outputs": [],
   "source": []
  }
 ],
 "metadata": {
  "kernelspec": {
   "display_name": "Python 3",
   "language": "python",
   "name": "python3"
  },
  "language_info": {
   "codemirror_mode": {
    "name": "ipython",
    "version": 3
   },
   "file_extension": ".py",
   "mimetype": "text/x-python",
   "name": "python",
   "nbconvert_exporter": "python",
   "pygments_lexer": "ipython3",
   "version": "3.5.2"
  }
 },
 "nbformat": 4,
 "nbformat_minor": 0
}
